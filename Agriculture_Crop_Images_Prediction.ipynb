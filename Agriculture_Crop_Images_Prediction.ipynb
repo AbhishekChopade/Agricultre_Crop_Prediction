{
 "cells": [
  {
   "cell_type": "code",
   "execution_count": 1,
   "id": "eeee72b7",
   "metadata": {},
   "outputs": [],
   "source": [
    "import pandas as pd\n",
    "import numpy as np\n",
    "import os\n",
    "import cv2\n",
    "import matplotlib.pyplot as plt\n",
    "import warnings\n",
    "warnings.filterwarnings('ignore')"
   ]
  },
  {
   "cell_type": "code",
   "execution_count": null,
   "id": "0697f132",
   "metadata": {},
   "outputs": [],
   "source": []
  },
  {
   "cell_type": "code",
   "execution_count": null,
   "id": "f02a3049",
   "metadata": {},
   "outputs": [],
   "source": []
  },
  {
   "cell_type": "markdown",
   "id": "a92cc5f6",
   "metadata": {},
   "source": [
    "# Data1 - crop_images"
   ]
  },
  {
   "cell_type": "code",
   "execution_count": 17,
   "id": "fd1bd59f",
   "metadata": {},
   "outputs": [],
   "source": [
    "from tensorflow.keras.preprocessing.image import ImageDataGenerator"
   ]
  },
  {
   "cell_type": "code",
   "execution_count": 18,
   "id": "7c29c65f",
   "metadata": {},
   "outputs": [],
   "source": [
    "data_gen = ImageDataGenerator(rotation_range=0.2, zoom_range=0.2, horizontal_flip=True, rescale=1/255)"
   ]
  },
  {
   "cell_type": "code",
   "execution_count": 19,
   "id": "e5c33e0b",
   "metadata": {},
   "outputs": [
    {
     "name": "stdout",
     "output_type": "stream",
     "text": [
      "Found 201 images belonging to 5 classes.\n"
     ]
    }
   ],
   "source": [
    "train_data1 = data_gen.flow_from_directory('../../Datasets/Agriculture/crop_images/',\n",
    "                                           target_size=(224,224))"
   ]
  },
  {
   "cell_type": "code",
   "execution_count": 20,
   "id": "a0f2ca2d",
   "metadata": {},
   "outputs": [
    {
     "data": {
      "text/plain": [
       "{'jute': 0, 'maize': 1, 'rice': 2, 'sugarcane': 3, 'wheat': 4}"
      ]
     },
     "execution_count": 20,
     "metadata": {},
     "output_type": "execute_result"
    }
   ],
   "source": [
    "train_data1.class_indices"
   ]
  },
  {
   "cell_type": "markdown",
   "id": "5b4203f1",
   "metadata": {},
   "source": [
    "### Own model - crop_images"
   ]
  },
  {
   "cell_type": "code",
   "execution_count": 21,
   "id": "863d46ed",
   "metadata": {},
   "outputs": [],
   "source": [
    "from tensorflow.keras.models import Sequential,Model\n",
    "from tensorflow.keras.layers import Conv2D, MaxPool2D, Flatten,Dense"
   ]
  },
  {
   "cell_type": "code",
   "execution_count": null,
   "id": "a5ad8131",
   "metadata": {},
   "outputs": [],
   "source": []
  },
  {
   "cell_type": "code",
   "execution_count": 22,
   "id": "4f55a205",
   "metadata": {},
   "outputs": [],
   "source": [
    "# model = Sequential()\n",
    "# model.add(Conv2D(32,(3,3),activation='relu',input_shape=(224,224,3)))\n",
    "# model.add(MaxPool2D())\n",
    "# model.add(Conv2D(64,(3,3), activation='relu'))\n",
    "# model.add(MaxPool2D())\n",
    "# model.add(Conv2D(128,(5,5), activation='relu'))\n",
    "# model.add(MaxPool2D())\n",
    "# model.add(Conv2D(128,(3,3), activation='relu'))\n",
    "# model.add(MaxPool2D())\n",
    "# model.add(Conv2D(256,(3,3), activation='relu'))\n",
    "# model.add(MaxPool2D())\n",
    "# model.add(Flatten())\n",
    "# model.add(Dense(5,activation='softmax'))\n",
    "\n",
    "# model.compile(loss='categorical_crossentropy',optimizer='adam',metrics=['accuracy'])"
   ]
  },
  {
   "cell_type": "code",
   "execution_count": 23,
   "id": "3f77addd",
   "metadata": {},
   "outputs": [],
   "source": [
    "# model.fit(train_data1, epochs=50)"
   ]
  },
  {
   "cell_type": "code",
   "execution_count": 24,
   "id": "be92dc4f",
   "metadata": {},
   "outputs": [],
   "source": [
    "# model.summary()"
   ]
  },
  {
   "cell_type": "code",
   "execution_count": null,
   "id": "6e6aa5f6",
   "metadata": {},
   "outputs": [],
   "source": [
    "from tensorflow.keras.models import load_model"
   ]
  },
  {
   "cell_type": "code",
   "execution_count": 25,
   "id": "e92c751a",
   "metadata": {},
   "outputs": [],
   "source": [
    "model_c1 = load_model('../../Downloads/Agriculture_Crop/cnn_own_c1.h5') #load model from kaggle"
   ]
  },
  {
   "cell_type": "code",
   "execution_count": 26,
   "id": "c017731d",
   "metadata": {},
   "outputs": [],
   "source": [
    "def predict_image(path):\n",
    "    A = cv2.imread(path)\n",
    "    B = cv2.resize(A,(224,224))\n",
    "    C = B/255\n",
    "    yp = model_c1.predict_on_batch(C.reshape(1,224,224,3)).argmax()\n",
    "    if yp==0:\n",
    "        return('JUTE')\n",
    "    elif yp==1:\n",
    "        return('MAIZE')\n",
    "    elif yp==2:\n",
    "        return('RICE')\n",
    "    elif yp==3:\n",
    "        return('SUGARCANE')\n",
    "    elif yp==4:\n",
    "        return('WHEAT')"
   ]
  },
  {
   "cell_type": "code",
   "execution_count": 36,
   "id": "7029991b",
   "metadata": {},
   "outputs": [
    {
     "name": "stdout",
     "output_type": "stream",
     "text": [
      "../../Datasets/Agriculture/test_crop_image/jute-field.jpg\n",
      "../../Datasets/Agriculture/test_crop_image/jute002.jpg\n",
      "../../Datasets/Agriculture/test_crop_image/jute003.jpg\n",
      "../../Datasets/Agriculture/test_crop_image/jute03.jpg\n",
      "../../Datasets/Agriculture/test_crop_image/jutefield.jpg\n",
      "../../Datasets/Agriculture/test_crop_image/juteimg.jpg\n",
      "../../Datasets/Agriculture/test_crop_image/juteleaves.jpg\n",
      "../../Datasets/Agriculture/test_crop_image/juteplant.jpg\n",
      "../../Datasets/Agriculture/test_crop_image/juteplants.jpg\n",
      "../../Datasets/Agriculture/test_crop_image/maize corn set2.jpg\n",
      "../../Datasets/Agriculture/test_crop_image/maize images.jfif\n",
      "../../Datasets/Agriculture/test_crop_image/maize plant set.jpg\n",
      "../../Datasets/Agriculture/test_crop_image/maize-Field-Corn.jpg\n",
      "../../Datasets/Agriculture/test_crop_image/maize-field.jpg\n",
      "../../Datasets/Agriculture/test_crop_image/maize-field01.jpg\n",
      "../../Datasets/Agriculture/test_crop_image/maize000.jfif\n",
      "../../Datasets/Agriculture/test_crop_image/maize00corn-fields.jpg\n",
      "../../Datasets/Agriculture/test_crop_image/maize02.jfif\n",
      "../../Datasets/Agriculture/test_crop_image/maizecornleaves.jfif\n",
      "../../Datasets/Agriculture/test_crop_image/maize_fieldmexico.jpeg\n",
      "../../Datasets/Agriculture/test_crop_image/rice-4967164_1280.jpg\n",
      "../../Datasets/Agriculture/test_crop_image/rice-5174887_1280.jpg\n",
      "../../Datasets/Agriculture/test_crop_image/rice-828540_1280.jpg\n",
      "../../Datasets/Agriculture/test_crop_image/rice-field.jpg\n",
      "../../Datasets/Agriculture/test_crop_image/rice-field01.jpg\n",
      "../../Datasets/Agriculture/test_crop_image/rice-field02.jpg\n",
      "../../Datasets/Agriculture/test_crop_image/rice-fields-204128_1280.jpg\n",
      "../../Datasets/Agriculture/test_crop_image/rice8122f869e3f.jpg\n",
      "../../Datasets/Agriculture/test_crop_image/sugarcane fields.jpg\n",
      "../../Datasets/Agriculture/test_crop_image/sugarcane-farm-in-the-mountain-countryside-of-thailand.jpg\n",
      "../../Datasets/Agriculture/test_crop_image/sugarcane-field.jpg\n",
      "../../Datasets/Agriculture/test_crop_image/sugarcane-field8.jpg\n",
      "../../Datasets/Agriculture/test_crop_image/sugarcanefield.jpg\n",
      "../../Datasets/Agriculture/test_crop_image/sugarcanefield02.jpg\n",
      "../../Datasets/Agriculture/test_crop_image/sugarcaneplant.jpg\n",
      "../../Datasets/Agriculture/test_crop_image/sugarcaneplants.jpg\n",
      "../../Datasets/Agriculture/test_crop_image/wheat-crop.jpg\n",
      "../../Datasets/Agriculture/test_crop_image/wheat-field-395545_960_720.jpg\n",
      "../../Datasets/Agriculture/test_crop_image/wheat-field-artificial-irrigation-rural-electrification-to-harvest-166395991.jpg\n",
      "../../Datasets/Agriculture/test_crop_image/wheat-field.jfif\n",
      "../../Datasets/Agriculture/test_crop_image/wheat-field01.jpg\n",
      "../../Datasets/Agriculture/test_crop_image/wheat-field02.jpg\n",
      "../../Datasets/Agriculture/test_crop_image/wheat-field03.jpg\n",
      "../../Datasets/Agriculture/test_crop_image/wheat.jpg\n",
      "../../Datasets/Agriculture/test_crop_image/wheatarial02.jpg\n",
      "../../Datasets/Agriculture/test_crop_image/wheatarialview.jfif\n",
      "../../Datasets/Agriculture/test_crop_image/wheatcrop01.jpg\n",
      "../../Datasets/Agriculture/test_crop_image/wheatcropfield.jpg\n",
      "../../Datasets/Agriculture/test_crop_image/wheatcropfield04.jpg\n",
      "../../Datasets/Agriculture/test_crop_image/wheatcrops.jpg\n",
      "../../Datasets/Agriculture/test_crop_image/wheatss.jpg\n"
     ]
    }
   ],
   "source": [
    "filenames = os.listdir('../../Datasets/Agriculture/test_crop_image/')\n",
    "for filename in filenames:\n",
    "    print('../../Datasets/Agriculture/test_crop_image/'+filename)"
   ]
  },
  {
   "cell_type": "code",
   "execution_count": 37,
   "id": "8be065a1",
   "metadata": {},
   "outputs": [
    {
     "name": "stdout",
     "output_type": "stream",
     "text": [
      "jute-field.jpg JUTE\n",
      "jute002.jpg JUTE\n",
      "jute003.jpg JUTE\n",
      "jute03.jpg JUTE\n",
      "jutefield.jpg SUGARCANE\n",
      "juteimg.jpg RICE\n",
      "juteleaves.jpg JUTE\n",
      "juteplant.jpg JUTE\n",
      "juteplants.jpg JUTE\n",
      "maize corn set2.jpg WHEAT\n",
      "maize images.jfif JUTE\n",
      "maize plant set.jpg SUGARCANE\n",
      "maize-Field-Corn.jpg JUTE\n",
      "maize-field.jpg RICE\n",
      "maize-field01.jpg MAIZE\n",
      "maize000.jfif JUTE\n",
      "maize00corn-fields.jpg SUGARCANE\n",
      "maize02.jfif SUGARCANE\n",
      "maizecornleaves.jfif SUGARCANE\n",
      "maize_fieldmexico.jpeg WHEAT\n",
      "rice-4967164_1280.jpg RICE\n",
      "rice-5174887_1280.jpg SUGARCANE\n",
      "rice-828540_1280.jpg SUGARCANE\n",
      "rice-field.jpg SUGARCANE\n",
      "rice-field01.jpg JUTE\n",
      "rice-field02.jpg SUGARCANE\n",
      "rice-fields-204128_1280.jpg RICE\n",
      "rice8122f869e3f.jpg JUTE\n",
      "sugarcane fields.jpg SUGARCANE\n",
      "sugarcane-farm-in-the-mountain-countryside-of-thailand.jpg SUGARCANE\n",
      "sugarcane-field.jpg JUTE\n",
      "sugarcane-field8.jpg SUGARCANE\n",
      "sugarcanefield.jpg RICE\n",
      "sugarcanefield02.jpg RICE\n",
      "sugarcaneplant.jpg SUGARCANE\n",
      "sugarcaneplants.jpg SUGARCANE\n",
      "wheat-crop.jpg RICE\n",
      "wheat-field-395545_960_720.jpg RICE\n",
      "wheat-field-artificial-irrigation-rural-electrification-to-harvest-166395991.jpg SUGARCANE\n",
      "wheat-field.jfif WHEAT\n",
      "wheat-field01.jpg RICE\n",
      "wheat-field02.jpg SUGARCANE\n",
      "wheat-field03.jpg RICE\n",
      "wheat.jpg SUGARCANE\n",
      "wheatarial02.jpg RICE\n",
      "wheatarialview.jfif RICE\n",
      "wheatcrop01.jpg RICE\n",
      "wheatcropfield.jpg RICE\n",
      "wheatcropfield04.jpg RICE\n",
      "wheatcrops.jpg SUGARCANE\n",
      "wheatss.jpg SUGARCANE\n"
     ]
    }
   ],
   "source": [
    "for filename in filenames:\n",
    "    output = predict_image('../../Datasets/Agriculture/test_crop_image/'+filename)\n",
    "    print(filename, output)"
   ]
  },
  {
   "cell_type": "code",
   "execution_count": null,
   "id": "f8456a6e",
   "metadata": {},
   "outputs": [],
   "source": [
    "# 16 out of 51 on crop_images by own model"
   ]
  },
  {
   "cell_type": "code",
   "execution_count": null,
   "id": "3f087d5b",
   "metadata": {},
   "outputs": [],
   "source": []
  },
  {
   "cell_type": "markdown",
   "id": "229ace2d",
   "metadata": {},
   "source": [
    "### Inception model - crop_images"
   ]
  },
  {
   "cell_type": "code",
   "execution_count": 39,
   "id": "9f8d031f",
   "metadata": {},
   "outputs": [],
   "source": [
    "from tensorflow.keras.models import Sequential,Model\n",
    "from tensorflow.keras.layers import Conv2D, MaxPool2D, Flatten,Dense\n",
    "from tensorflow.keras.applications import VGG16, InceptionV3"
   ]
  },
  {
   "cell_type": "code",
   "execution_count": 40,
   "id": "ed12de22",
   "metadata": {},
   "outputs": [],
   "source": [
    "#inception = InceptionV3(include_top=False,input_shape=(224,224,3))"
   ]
  },
  {
   "cell_type": "code",
   "execution_count": 41,
   "id": "f9e1f00a",
   "metadata": {},
   "outputs": [],
   "source": [
    "#     for layer in inception.layers:\n",
    "#         layer.trainable = False\n",
    "#     last_layer = Dense(5,activation='softmax')(Flatten()(inception.output))    "
   ]
  },
  {
   "cell_type": "code",
   "execution_count": 43,
   "id": "d377e908",
   "metadata": {},
   "outputs": [],
   "source": [
    "#     model_in = Model(inputs = inception.input, outputs = last_layer)\n",
    "#     model_in.compile(loss='categorical_crossentropy',metrics=['accuracy'], optimizer = 'adam')"
   ]
  },
  {
   "cell_type": "code",
   "execution_count": 62,
   "id": "a3d3cd01",
   "metadata": {},
   "outputs": [],
   "source": [
    "#model_in.summary()"
   ]
  },
  {
   "cell_type": "code",
   "execution_count": 63,
   "id": "a6a28313",
   "metadata": {},
   "outputs": [],
   "source": [
    "#model_in.fit(train_data1, epochs=25)"
   ]
  },
  {
   "cell_type": "code",
   "execution_count": 49,
   "id": "bec6e247",
   "metadata": {},
   "outputs": [],
   "source": [
    "from tensorflow.keras.models import load_model"
   ]
  },
  {
   "cell_type": "code",
   "execution_count": 69,
   "id": "72c62972",
   "metadata": {},
   "outputs": [],
   "source": [
    "model_in = load_model('../../Downloads/Agriculture_Crop/cnn_inc_c1.h5')   # load model from kaggle"
   ]
  },
  {
   "cell_type": "code",
   "execution_count": 70,
   "id": "d7b4546f",
   "metadata": {},
   "outputs": [],
   "source": [
    "def predict_image(path):\n",
    "    A = cv2.imread(path)\n",
    "    B = cv2.resize(A,(224,224))\n",
    "    C = B/255\n",
    "    yp = model_in.predict_on_batch(C.reshape(1,224,224,3)).argmax()\n",
    "    if yp==0:\n",
    "        return('JUTE')\n",
    "    elif yp==1:\n",
    "        return('MAIZE')\n",
    "    elif yp==2:\n",
    "        return('RICE')\n",
    "    elif yp==3:\n",
    "        return('SUGARCANE')\n",
    "    elif yp==4:\n",
    "        return('WHEAT')"
   ]
  },
  {
   "cell_type": "code",
   "execution_count": 73,
   "id": "ec13448d",
   "metadata": {},
   "outputs": [],
   "source": [
    "filenames = os.listdir('../../Datasets/Agriculture/test_crop_image/')"
   ]
  },
  {
   "cell_type": "code",
   "execution_count": 72,
   "id": "0f127f69",
   "metadata": {},
   "outputs": [
    {
     "name": "stdout",
     "output_type": "stream",
     "text": [
      "jute-field.jpg JUTE\n",
      "jute002.jpg JUTE\n",
      "jute003.jpg RICE\n",
      "jute03.jpg MAIZE\n",
      "jutefield.jpg MAIZE\n",
      "juteimg.jpg RICE\n",
      "juteleaves.jpg JUTE\n",
      "juteplant.jpg MAIZE\n",
      "juteplants.jpg JUTE\n",
      "maize corn set2.jpg MAIZE\n",
      "maize images.jfif MAIZE\n",
      "maize plant set.jpg MAIZE\n",
      "maize-Field-Corn.jpg MAIZE\n",
      "maize-field.jpg MAIZE\n",
      "maize-field01.jpg MAIZE\n",
      "maize000.jfif SUGARCANE\n",
      "maize00corn-fields.jpg MAIZE\n",
      "maize02.jfif MAIZE\n",
      "maizecornleaves.jfif MAIZE\n",
      "maize_fieldmexico.jpeg MAIZE\n",
      "rice-4967164_1280.jpg RICE\n",
      "rice-5174887_1280.jpg WHEAT\n",
      "rice-828540_1280.jpg MAIZE\n",
      "rice-field.jpg RICE\n",
      "rice-field01.jpg MAIZE\n",
      "rice-field02.jpg RICE\n",
      "rice-fields-204128_1280.jpg RICE\n",
      "rice8122f869e3f.jpg MAIZE\n",
      "sugarcane fields.jpg RICE\n",
      "sugarcane-farm-in-the-mountain-countryside-of-thailand.jpg MAIZE\n",
      "sugarcane-field.jpg RICE\n",
      "sugarcane-field8.jpg RICE\n",
      "sugarcanefield.jpg RICE\n",
      "sugarcanefield02.jpg WHEAT\n",
      "sugarcaneplant.jpg SUGARCANE\n",
      "sugarcaneplants.jpg WHEAT\n",
      "wheat-crop.jpg WHEAT\n",
      "wheat-field-395545_960_720.jpg MAIZE\n",
      "wheat-field-artificial-irrigation-rural-electrification-to-harvest-166395991.jpg WHEAT\n",
      "wheat-field.jfif SUGARCANE\n",
      "wheat-field01.jpg WHEAT\n",
      "wheat-field02.jpg WHEAT\n",
      "wheat-field03.jpg WHEAT\n",
      "wheat.jpg WHEAT\n",
      "wheatarial02.jpg JUTE\n",
      "wheatarialview.jfif WHEAT\n",
      "wheatcrop01.jpg WHEAT\n",
      "wheatcropfield.jpg WHEAT\n",
      "wheatcropfield04.jpg SUGARCANE\n",
      "wheatcrops.jpg WHEAT\n",
      "wheatss.jpg WHEAT\n"
     ]
    }
   ],
   "source": [
    "for filename in filenames:\n",
    "    output = predict_image('../../Datasets/Agriculture/test_crop_image/'+filename)\n",
    "    print(filename, output)"
   ]
  },
  {
   "cell_type": "code",
   "execution_count": 8,
   "id": "2dccc25e",
   "metadata": {},
   "outputs": [],
   "source": [
    "#30 out of 51 on crop_images by inception"
   ]
  },
  {
   "cell_type": "code",
   "execution_count": null,
   "id": "20e5ed1b",
   "metadata": {},
   "outputs": [],
   "source": []
  },
  {
   "cell_type": "markdown",
   "id": "17d2f406",
   "metadata": {},
   "source": [
    "### Resnet model - crop_images"
   ]
  },
  {
   "cell_type": "code",
   "execution_count": 87,
   "id": "8c5f8a1f",
   "metadata": {},
   "outputs": [],
   "source": [
    "from tensorflow.keras.models import Sequential,Model\n",
    "from tensorflow.keras.layers import Conv2D, MaxPool2D, Flatten,Dense\n",
    "from tensorflow.keras.applications import ResNet50"
   ]
  },
  {
   "cell_type": "code",
   "execution_count": 88,
   "id": "7d232cff",
   "metadata": {},
   "outputs": [],
   "source": [
    "# resnet = ResNet50(include_top=False,input_shape=(224,224,3))"
   ]
  },
  {
   "cell_type": "code",
   "execution_count": 89,
   "id": "1922d378",
   "metadata": {},
   "outputs": [],
   "source": [
    "#     for layer in resnet.layers:\n",
    "#         layer.trainable = False\n",
    "#     final_layer = Dense(5,activation='softmax')(Flatten()(resnet.output))    "
   ]
  },
  {
   "cell_type": "code",
   "execution_count": 90,
   "id": "fe38829f",
   "metadata": {},
   "outputs": [],
   "source": [
    "#     model = Model(inputs = resnet.input, outputs = final_layer)\n",
    "#     model.compile(loss='categorical_crossentropy', optimizer='adam',metrics=['accuracy'])"
   ]
  },
  {
   "cell_type": "code",
   "execution_count": 91,
   "id": "edb7d78d",
   "metadata": {},
   "outputs": [],
   "source": [
    "# model.fit(train_data1, epochs=25)"
   ]
  },
  {
   "cell_type": "code",
   "execution_count": null,
   "id": "dd5f25b8",
   "metadata": {},
   "outputs": [],
   "source": [
    "from tensorflow.keras.models import load_model"
   ]
  },
  {
   "cell_type": "code",
   "execution_count": 92,
   "id": "456d16a8",
   "metadata": {},
   "outputs": [],
   "source": [
    "model_re = load_model('../../Downloads/Agriculture_Crop/cnn_res_c1.h5') #load model from kaggle"
   ]
  },
  {
   "cell_type": "code",
   "execution_count": 93,
   "id": "cfc998f7",
   "metadata": {},
   "outputs": [],
   "source": [
    "def predict_image(path):\n",
    "    A = cv2.imread(path)\n",
    "    B = cv2.resize(A,(224,224))\n",
    "    C = B/255\n",
    "    yp = model_re.predict_on_batch(C.reshape(1,224,224,3)).argmax()\n",
    "    if yp==0:\n",
    "        return('JUTE')\n",
    "    elif yp==1:\n",
    "        return('MAIZE')\n",
    "    elif yp==2:\n",
    "        return('RICE')\n",
    "    elif yp==3:\n",
    "        return('SUGARCANE')\n",
    "    elif yp==4:\n",
    "        return('WHEAT')"
   ]
  },
  {
   "cell_type": "code",
   "execution_count": null,
   "id": "af5aa65d",
   "metadata": {},
   "outputs": [],
   "source": [
    "filenames = os.listdir('../../Datasets/Agriculture/test_crop_image/')"
   ]
  },
  {
   "cell_type": "code",
   "execution_count": 94,
   "id": "d11b23e9",
   "metadata": {},
   "outputs": [
    {
     "name": "stdout",
     "output_type": "stream",
     "text": [
      "jute-field.jpg JUTE\n",
      "jute002.jpg JUTE\n",
      "jute003.jpg JUTE\n",
      "jute03.jpg RICE\n",
      "jutefield.jpg JUTE\n",
      "juteimg.jpg WHEAT\n",
      "juteleaves.jpg JUTE\n",
      "juteplant.jpg JUTE\n",
      "juteplants.jpg JUTE\n",
      "maize corn set2.jpg WHEAT\n",
      "maize images.jfif MAIZE\n",
      "maize plant set.jpg SUGARCANE\n",
      "maize-Field-Corn.jpg SUGARCANE\n",
      "maize-field.jpg JUTE\n",
      "maize-field01.jpg WHEAT\n",
      "maize000.jfif JUTE\n",
      "maize00corn-fields.jpg MAIZE\n",
      "maize02.jfif WHEAT\n",
      "maizecornleaves.jfif MAIZE\n",
      "maize_fieldmexico.jpeg JUTE\n",
      "rice-4967164_1280.jpg WHEAT\n",
      "rice-5174887_1280.jpg JUTE\n",
      "rice-828540_1280.jpg JUTE\n",
      "rice-field.jpg SUGARCANE\n",
      "rice-field01.jpg JUTE\n",
      "rice-field02.jpg JUTE\n",
      "rice-fields-204128_1280.jpg RICE\n",
      "rice8122f869e3f.jpg SUGARCANE\n",
      "sugarcane fields.jpg MAIZE\n",
      "sugarcane-farm-in-the-mountain-countryside-of-thailand.jpg JUTE\n",
      "sugarcane-field.jpg JUTE\n",
      "sugarcane-field8.jpg JUTE\n",
      "sugarcanefield.jpg JUTE\n",
      "sugarcanefield02.jpg JUTE\n",
      "sugarcaneplant.jpg MAIZE\n",
      "sugarcaneplants.jpg SUGARCANE\n",
      "wheat-crop.jpg WHEAT\n",
      "wheat-field-395545_960_720.jpg RICE\n",
      "wheat-field-artificial-irrigation-rural-electrification-to-harvest-166395991.jpg RICE\n",
      "wheat-field.jfif WHEAT\n",
      "wheat-field01.jpg JUTE\n",
      "wheat-field02.jpg JUTE\n",
      "wheat-field03.jpg WHEAT\n",
      "wheat.jpg JUTE\n",
      "wheatarial02.jpg JUTE\n",
      "wheatarialview.jfif SUGARCANE\n",
      "wheatcrop01.jpg JUTE\n",
      "wheatcropfield.jpg WHEAT\n",
      "wheatcropfield04.jpg WHEAT\n",
      "wheatcrops.jpg WHEAT\n",
      "wheatss.jpg JUTE\n"
     ]
    }
   ],
   "source": [
    "for filename in filenames:\n",
    "    output = predict_image('../../Datasets/Agriculture/test_crop_image/'+filename)\n",
    "    print(filename, output)"
   ]
  },
  {
   "cell_type": "code",
   "execution_count": 95,
   "id": "c8f8836b",
   "metadata": {},
   "outputs": [],
   "source": [
    "# 18 out of 51 on crop_images by resnet"
   ]
  },
  {
   "cell_type": "markdown",
   "id": "b15fef46",
   "metadata": {},
   "source": [
    "# Data2 - kag2"
   ]
  },
  {
   "cell_type": "code",
   "execution_count": 2,
   "id": "286d1d9e",
   "metadata": {},
   "outputs": [],
   "source": [
    "from tensorflow.keras.preprocessing.image import ImageDataGenerator"
   ]
  },
  {
   "cell_type": "code",
   "execution_count": 3,
   "id": "9565f9d8",
   "metadata": {},
   "outputs": [],
   "source": [
    "data_gen = ImageDataGenerator(rotation_range=0.2, zoom_range=0.2, horizontal_flip=True, rescale=1/255)"
   ]
  },
  {
   "cell_type": "code",
   "execution_count": 4,
   "id": "8d7ba029",
   "metadata": {},
   "outputs": [
    {
     "name": "stdout",
     "output_type": "stream",
     "text": [
      "Found 804 images belonging to 5 classes.\n"
     ]
    }
   ],
   "source": [
    "train_data2 = data_gen.flow_from_directory('../../Datasets/Agriculture/kag2/',\n",
    "                                           target_size=(224,224))"
   ]
  },
  {
   "cell_type": "code",
   "execution_count": 5,
   "id": "6f9c9f75",
   "metadata": {},
   "outputs": [
    {
     "data": {
      "text/plain": [
       "{'jute': 0, 'maize': 1, 'rice': 2, 'sugarcane': 3, 'wheat': 4}"
      ]
     },
     "execution_count": 5,
     "metadata": {},
     "output_type": "execute_result"
    }
   ],
   "source": [
    "train_data2.class_indices"
   ]
  },
  {
   "cell_type": "markdown",
   "id": "795419a3",
   "metadata": {},
   "source": [
    "### Own Model - kag2"
   ]
  },
  {
   "cell_type": "code",
   "execution_count": 6,
   "id": "99ded888",
   "metadata": {},
   "outputs": [],
   "source": [
    "from tensorflow.keras.models import Sequential,Model\n",
    "from tensorflow.keras.layers import Conv2D, MaxPool2D, Flatten,Dense"
   ]
  },
  {
   "cell_type": "code",
   "execution_count": 7,
   "id": "7baa8629",
   "metadata": {},
   "outputs": [],
   "source": [
    "from tensorflow.keras.models import load_model"
   ]
  },
  {
   "cell_type": "code",
   "execution_count": 9,
   "id": "3efe59f0",
   "metadata": {},
   "outputs": [],
   "source": [
    "model_k1 = load_model('../../Downloads/Agriculture_Crop/cnn_own_kag1.h5') #load model from kaggle"
   ]
  },
  {
   "cell_type": "code",
   "execution_count": 28,
   "id": "d69e8583",
   "metadata": {},
   "outputs": [],
   "source": [
    "def predict_image(path):\n",
    "    A = cv2.imread(path)\n",
    "    B = cv2.resize(A,(224,224))\n",
    "    C = B/255\n",
    "    yp = model_k1.predict_on_batch(C.reshape(1,224,224,3)).argmax()\n",
    "    if yp==0:\n",
    "        return('JUTE')\n",
    "    elif yp==1:\n",
    "        return('MAIZE')\n",
    "    elif yp==2:\n",
    "        return('RICE')\n",
    "    elif yp==3:\n",
    "        return('SUGARCANE')\n",
    "    elif yp==4:\n",
    "        return('WHEAT')"
   ]
  },
  {
   "cell_type": "code",
   "execution_count": 29,
   "id": "8c97e59b",
   "metadata": {},
   "outputs": [],
   "source": [
    "filenames = os.listdir('../../Datasets/Agriculture/test_crop_image/')"
   ]
  },
  {
   "cell_type": "code",
   "execution_count": 30,
   "id": "c106b8e1",
   "metadata": {},
   "outputs": [
    {
     "name": "stdout",
     "output_type": "stream",
     "text": [
      "jute-field.jpg SUGARCANE\n",
      "jute002.jpg SUGARCANE\n",
      "jute003.jpg SUGARCANE\n",
      "jute03.jpg SUGARCANE\n",
      "jutefield.jpg MAIZE\n",
      "juteimg.jpg MAIZE\n",
      "juteleaves.jpg SUGARCANE\n",
      "juteplant.jpg JUTE\n",
      "juteplants.jpg SUGARCANE\n",
      "maize corn set2.jpg MAIZE\n",
      "maize images.jfif JUTE\n",
      "maize plant set.jpg SUGARCANE\n",
      "maize-Field-Corn.jpg SUGARCANE\n",
      "maize-field.jpg MAIZE\n",
      "maize-field01.jpg MAIZE\n",
      "maize000.jfif JUTE\n",
      "maize00corn-fields.jpg MAIZE\n",
      "maize02.jfif JUTE\n",
      "maizecornleaves.jfif SUGARCANE\n",
      "maize_fieldmexico.jpeg WHEAT\n",
      "rice-4967164_1280.jpg RICE\n",
      "rice-5174887_1280.jpg SUGARCANE\n",
      "rice-828540_1280.jpg JUTE\n",
      "rice-field.jpg SUGARCANE\n",
      "rice-field01.jpg SUGARCANE\n",
      "rice-field02.jpg SUGARCANE\n",
      "rice-fields-204128_1280.jpg MAIZE\n",
      "rice8122f869e3f.jpg SUGARCANE\n",
      "sugarcane fields.jpg MAIZE\n",
      "sugarcane-farm-in-the-mountain-countryside-of-thailand.jpg SUGARCANE\n",
      "sugarcane-field.jpg SUGARCANE\n",
      "sugarcane-field8.jpg SUGARCANE\n",
      "sugarcanefield.jpg SUGARCANE\n",
      "sugarcanefield02.jpg RICE\n",
      "sugarcaneplant.jpg JUTE\n",
      "sugarcaneplants.jpg SUGARCANE\n",
      "wheat-crop.jpg MAIZE\n",
      "wheat-field-395545_960_720.jpg RICE\n",
      "wheat-field-artificial-irrigation-rural-electrification-to-harvest-166395991.jpg RICE\n",
      "wheat-field.jfif MAIZE\n",
      "wheat-field01.jpg MAIZE\n",
      "wheat-field02.jpg SUGARCANE\n",
      "wheat-field03.jpg MAIZE\n",
      "wheat.jpg WHEAT\n",
      "wheatarial02.jpg SUGARCANE\n",
      "wheatarialview.jfif MAIZE\n",
      "wheatcrop01.jpg WHEAT\n",
      "wheatcropfield.jpg RICE\n",
      "wheatcropfield04.jpg MAIZE\n",
      "wheatcrops.jpg MAIZE\n",
      "wheatss.jpg WHEAT\n"
     ]
    }
   ],
   "source": [
    "for filename in filenames:\n",
    "    output = predict_image('../../Datasets/Agriculture/test_crop_image/'+filename)\n",
    "    print(filename, output)"
   ]
  },
  {
   "cell_type": "code",
   "execution_count": 112,
   "id": "11c6c763",
   "metadata": {},
   "outputs": [],
   "source": [
    "# 14 out of 51 on kag by own "
   ]
  },
  {
   "cell_type": "markdown",
   "id": "03f85824",
   "metadata": {},
   "source": [
    "### Inception Model - kag2"
   ]
  },
  {
   "cell_type": "code",
   "execution_count": 108,
   "id": "3e09727f",
   "metadata": {},
   "outputs": [],
   "source": [
    "from tensorflow.keras.models import Sequential,Model\n",
    "from tensorflow.keras.layers import Conv2D, MaxPool2D, Flatten,Dense\n",
    "from tensorflow.keras.applications import InceptionV3"
   ]
  },
  {
   "cell_type": "code",
   "execution_count": null,
   "id": "3170d721",
   "metadata": {},
   "outputs": [],
   "source": [
    "from tensorflow.keras.models import load_model"
   ]
  },
  {
   "cell_type": "code",
   "execution_count": 36,
   "id": "4a2a4a86",
   "metadata": {},
   "outputs": [],
   "source": [
    "model_k2 = load_model('../../Downloads/Agriculture_Crop/cnn_inc_kag1.h5')"
   ]
  },
  {
   "cell_type": "code",
   "execution_count": 37,
   "id": "a5688b1e",
   "metadata": {},
   "outputs": [],
   "source": [
    "def predict_image(path):\n",
    "    A = cv2.imread(path)\n",
    "    B = cv2.resize(A,(224,224))\n",
    "    C = B/255\n",
    "    yp = model_k2.predict_on_batch(C.reshape(1,224,224,3)).argmax()\n",
    "    if yp==0:\n",
    "        return('JUTE')\n",
    "    elif yp==1:\n",
    "        return('MAIZE')\n",
    "    elif yp==2:\n",
    "        return('RICE')\n",
    "    elif yp==3:\n",
    "        return('SUGARCANE')\n",
    "    elif yp==4:\n",
    "        return('WHEAT')"
   ]
  },
  {
   "cell_type": "code",
   "execution_count": 38,
   "id": "28c8ed75",
   "metadata": {},
   "outputs": [],
   "source": [
    "filenames = os.listdir('../../Datasets/Agriculture/test_crop_image/')"
   ]
  },
  {
   "cell_type": "code",
   "execution_count": 39,
   "id": "79c1d1ca",
   "metadata": {},
   "outputs": [
    {
     "name": "stdout",
     "output_type": "stream",
     "text": [
      "jute-field.jpg JUTE\n",
      "jute002.jpg SUGARCANE\n",
      "jute003.jpg RICE\n",
      "jute03.jpg SUGARCANE\n",
      "jutefield.jpg RICE\n",
      "juteimg.jpg RICE\n",
      "juteleaves.jpg JUTE\n",
      "juteplant.jpg MAIZE\n",
      "juteplants.jpg MAIZE\n",
      "maize corn set2.jpg MAIZE\n",
      "maize images.jfif MAIZE\n",
      "maize plant set.jpg WHEAT\n",
      "maize-Field-Corn.jpg WHEAT\n",
      "maize-field.jpg MAIZE\n",
      "maize-field01.jpg MAIZE\n",
      "maize000.jfif SUGARCANE\n",
      "maize00corn-fields.jpg MAIZE\n",
      "maize02.jfif MAIZE\n",
      "maizecornleaves.jfif MAIZE\n",
      "maize_fieldmexico.jpeg MAIZE\n",
      "rice-4967164_1280.jpg WHEAT\n",
      "rice-5174887_1280.jpg WHEAT\n",
      "rice-828540_1280.jpg MAIZE\n",
      "rice-field.jpg RICE\n",
      "rice-field01.jpg SUGARCANE\n",
      "rice-field02.jpg RICE\n",
      "rice-fields-204128_1280.jpg RICE\n",
      "rice8122f869e3f.jpg MAIZE\n",
      "sugarcane fields.jpg RICE\n",
      "sugarcane-farm-in-the-mountain-countryside-of-thailand.jpg MAIZE\n",
      "sugarcane-field.jpg SUGARCANE\n",
      "sugarcane-field8.jpg RICE\n",
      "sugarcanefield.jpg WHEAT\n",
      "sugarcanefield02.jpg WHEAT\n",
      "sugarcaneplant.jpg SUGARCANE\n",
      "sugarcaneplants.jpg WHEAT\n",
      "wheat-crop.jpg WHEAT\n",
      "wheat-field-395545_960_720.jpg SUGARCANE\n",
      "wheat-field-artificial-irrigation-rural-electrification-to-harvest-166395991.jpg SUGARCANE\n",
      "wheat-field.jfif SUGARCANE\n",
      "wheat-field01.jpg WHEAT\n",
      "wheat-field02.jpg WHEAT\n",
      "wheat-field03.jpg WHEAT\n",
      "wheat.jpg WHEAT\n",
      "wheatarial02.jpg MAIZE\n",
      "wheatarialview.jfif WHEAT\n",
      "wheatcrop01.jpg WHEAT\n",
      "wheatcropfield.jpg WHEAT\n",
      "wheatcropfield04.jpg SUGARCANE\n",
      "wheatcrops.jpg WHEAT\n",
      "wheatss.jpg WHEAT\n"
     ]
    }
   ],
   "source": [
    "for filename in filenames:\n",
    "    output = predict_image('../../Datasets/Agriculture/test_crop_image/'+filename)\n",
    "    print(filename, output)"
   ]
  },
  {
   "cell_type": "code",
   "execution_count": null,
   "id": "146b38e4",
   "metadata": {},
   "outputs": [],
   "source": [
    "# 25 out of 51 on kag by inception "
   ]
  },
  {
   "cell_type": "markdown",
   "id": "5ef1e579",
   "metadata": {},
   "source": [
    "### Resnet Model - kag2"
   ]
  },
  {
   "cell_type": "code",
   "execution_count": 40,
   "id": "9e22b7b1",
   "metadata": {},
   "outputs": [],
   "source": [
    "from tensorflow.keras.models import Sequential,Model\n",
    "from tensorflow.keras.layers import Conv2D, MaxPool2D, Flatten,Dense\n",
    "from tensorflow.keras.applications import ResNet50"
   ]
  },
  {
   "cell_type": "code",
   "execution_count": 41,
   "id": "b581de22",
   "metadata": {},
   "outputs": [],
   "source": [
    "from tensorflow.keras.models import load_model"
   ]
  },
  {
   "cell_type": "code",
   "execution_count": 42,
   "id": "6b61147a",
   "metadata": {},
   "outputs": [],
   "source": [
    "model_k3 = load_model('../../Downloads/Agriculture_Crop/cnn_res_kag1.h5')"
   ]
  },
  {
   "cell_type": "code",
   "execution_count": 43,
   "id": "d3ec17e9",
   "metadata": {},
   "outputs": [],
   "source": [
    "def predict_image(path):\n",
    "    A = cv2.imread(path)\n",
    "    B = cv2.resize(A,(224,224))\n",
    "    C = B/255\n",
    "    yp = model_k3.predict_on_batch(C.reshape(1,224,224,3)).argmax()\n",
    "    if yp==0:\n",
    "        return('JUTE')\n",
    "    elif yp==1:\n",
    "        return('MAIZE')\n",
    "    elif yp==2:\n",
    "        return('RICE')\n",
    "    elif yp==3:\n",
    "        return('SUGARCANE')\n",
    "    elif yp==4:\n",
    "        return('WHEAT')"
   ]
  },
  {
   "cell_type": "code",
   "execution_count": 44,
   "id": "f445ac40",
   "metadata": {},
   "outputs": [],
   "source": [
    "filenames = os.listdir('../../Datasets/Agriculture/test_crop_image/')"
   ]
  },
  {
   "cell_type": "code",
   "execution_count": 45,
   "id": "c0acef96",
   "metadata": {},
   "outputs": [
    {
     "name": "stdout",
     "output_type": "stream",
     "text": [
      "jute-field.jpg RICE\n",
      "jute002.jpg JUTE\n",
      "jute003.jpg JUTE\n",
      "jute03.jpg RICE\n",
      "jutefield.jpg MAIZE\n",
      "juteimg.jpg WHEAT\n",
      "juteleaves.jpg JUTE\n",
      "juteplant.jpg JUTE\n",
      "juteplants.jpg JUTE\n",
      "maize corn set2.jpg WHEAT\n",
      "maize images.jfif MAIZE\n",
      "maize plant set.jpg SUGARCANE\n",
      "maize-Field-Corn.jpg SUGARCANE\n",
      "maize-field.jpg MAIZE\n",
      "maize-field01.jpg WHEAT\n",
      "maize000.jfif JUTE\n",
      "maize00corn-fields.jpg MAIZE\n",
      "maize02.jfif MAIZE\n",
      "maizecornleaves.jfif MAIZE\n",
      "maize_fieldmexico.jpeg JUTE\n",
      "rice-4967164_1280.jpg RICE\n",
      "rice-5174887_1280.jpg JUTE\n",
      "rice-828540_1280.jpg WHEAT\n",
      "rice-field.jpg RICE\n",
      "rice-field01.jpg JUTE\n",
      "rice-field02.jpg WHEAT\n",
      "rice-fields-204128_1280.jpg MAIZE\n",
      "rice8122f869e3f.jpg SUGARCANE\n",
      "sugarcane fields.jpg MAIZE\n",
      "sugarcane-farm-in-the-mountain-countryside-of-thailand.jpg SUGARCANE\n",
      "sugarcane-field.jpg SUGARCANE\n",
      "sugarcane-field8.jpg SUGARCANE\n",
      "sugarcanefield.jpg MAIZE\n",
      "sugarcanefield02.jpg SUGARCANE\n",
      "sugarcaneplant.jpg MAIZE\n",
      "sugarcaneplants.jpg SUGARCANE\n",
      "wheat-crop.jpg MAIZE\n",
      "wheat-field-395545_960_720.jpg RICE\n",
      "wheat-field-artificial-irrigation-rural-electrification-to-harvest-166395991.jpg RICE\n",
      "wheat-field.jfif RICE\n",
      "wheat-field01.jpg JUTE\n",
      "wheat-field02.jpg WHEAT\n",
      "wheat-field03.jpg WHEAT\n",
      "wheat.jpg MAIZE\n",
      "wheatarial02.jpg SUGARCANE\n",
      "wheatarialview.jfif SUGARCANE\n",
      "wheatcrop01.jpg MAIZE\n",
      "wheatcropfield.jpg RICE\n",
      "wheatcropfield04.jpg SUGARCANE\n",
      "wheatcrops.jpg SUGARCANE\n",
      "wheatss.jpg WHEAT\n"
     ]
    }
   ],
   "source": [
    "for filename in filenames:\n",
    "    output = predict_image('../../Datasets/Agriculture/test_crop_image/'+filename)\n",
    "    print(filename, output)"
   ]
  },
  {
   "cell_type": "code",
   "execution_count": null,
   "id": "5b03d339",
   "metadata": {},
   "outputs": [],
   "source": [
    "# 20 out of 51 on kag by resnet"
   ]
  },
  {
   "cell_type": "code",
   "execution_count": null,
   "id": "6a8c9f47",
   "metadata": {},
   "outputs": [],
   "source": []
  },
  {
   "cell_type": "markdown",
   "id": "40b141b9",
   "metadata": {},
   "source": [
    "# Data3 - some_more_images"
   ]
  },
  {
   "cell_type": "code",
   "execution_count": 26,
   "id": "8f5e3bd0",
   "metadata": {},
   "outputs": [],
   "source": [
    "from tensorflow.keras.preprocessing.image import ImageDataGenerator"
   ]
  },
  {
   "cell_type": "code",
   "execution_count": 27,
   "id": "857bc347",
   "metadata": {},
   "outputs": [],
   "source": [
    "data_gen = ImageDataGenerator(rotation_range=0.2, zoom_range=0.2, horizontal_flip=True, rescale=1/255)"
   ]
  },
  {
   "cell_type": "code",
   "execution_count": 28,
   "id": "5c326766",
   "metadata": {},
   "outputs": [
    {
     "name": "stdout",
     "output_type": "stream",
     "text": [
      "Found 50 images belonging to 5 classes.\n"
     ]
    }
   ],
   "source": [
    "train_data3 = data_gen.flow_from_directory('../../Datasets/Agriculture/some_more_images/some_more_images/',\n",
    "                                           target_size=(224,224))"
   ]
  },
  {
   "cell_type": "code",
   "execution_count": 29,
   "id": "19a398af",
   "metadata": {},
   "outputs": [
    {
     "data": {
      "text/plain": [
       "{'Wheat': 0, 'jute': 1, 'maize': 2, 'rice': 3, 'sugarcane': 4}"
      ]
     },
     "execution_count": 29,
     "metadata": {},
     "output_type": "execute_result"
    }
   ],
   "source": [
    "train_data3.class_indices "
   ]
  },
  {
   "cell_type": "markdown",
   "id": "62b762c6",
   "metadata": {},
   "source": [
    "### Own Model - some_more_images"
   ]
  },
  {
   "cell_type": "code",
   "execution_count": 30,
   "id": "1415360f",
   "metadata": {},
   "outputs": [],
   "source": [
    "from tensorflow.keras.models import Sequential,Model\n",
    "from tensorflow.keras.layers import Conv2D, MaxPool2D, Flatten,Dense"
   ]
  },
  {
   "cell_type": "code",
   "execution_count": 31,
   "id": "99b31c16",
   "metadata": {},
   "outputs": [],
   "source": [
    "from tensorflow.keras.models import load_model"
   ]
  },
  {
   "cell_type": "code",
   "execution_count": 42,
   "id": "7fcadaaa",
   "metadata": {},
   "outputs": [],
   "source": [
    "model_s1 = load_model('../../Downloads/Agriculture_Crop/cnn_own_more1.h5') #load model from kaggle"
   ]
  },
  {
   "cell_type": "code",
   "execution_count": 43,
   "id": "4e45ae86",
   "metadata": {},
   "outputs": [],
   "source": [
    "def predict_image(path):\n",
    "    A = cv2.imread(path)\n",
    "    B = cv2.resize(A,(224,224))\n",
    "    C = B/255\n",
    "    yp = model_s1.predict_on_batch(C.reshape(1,224,224,3)).argmax()\n",
    "    if yp==0:\n",
    "        return('WHEAT')\n",
    "    elif yp==1:\n",
    "        return('JUTE')\n",
    "    elif yp==2:\n",
    "        return('MAIZE')\n",
    "    elif yp==3:\n",
    "        return('RICE')\n",
    "    elif yp==4:\n",
    "        return('SUGARCANE')"
   ]
  },
  {
   "cell_type": "code",
   "execution_count": 44,
   "id": "7ec07f7b",
   "metadata": {},
   "outputs": [],
   "source": [
    "filenames = os.listdir('../../Datasets/Agriculture/test_crop_image/')"
   ]
  },
  {
   "cell_type": "code",
   "execution_count": 45,
   "id": "35fd8b19",
   "metadata": {},
   "outputs": [
    {
     "name": "stdout",
     "output_type": "stream",
     "text": [
      "jute-field.jpg MAIZE\n",
      "jute002.jpg SUGARCANE\n",
      "jute003.jpg SUGARCANE\n",
      "jute03.jpg MAIZE\n",
      "jutefield.jpg SUGARCANE\n",
      "juteimg.jpg MAIZE\n",
      "juteleaves.jpg JUTE\n",
      "juteplant.jpg MAIZE\n",
      "juteplants.jpg JUTE\n",
      "maize corn set2.jpg MAIZE\n",
      "maize images.jfif MAIZE\n",
      "maize plant set.jpg MAIZE\n",
      "maize-Field-Corn.jpg MAIZE\n",
      "maize-field.jpg MAIZE\n",
      "maize-field01.jpg MAIZE\n",
      "maize000.jfif JUTE\n",
      "maize00corn-fields.jpg MAIZE\n",
      "maize02.jfif JUTE\n",
      "maizecornleaves.jfif MAIZE\n",
      "maize_fieldmexico.jpeg MAIZE\n",
      "rice-4967164_1280.jpg MAIZE\n",
      "rice-5174887_1280.jpg JUTE\n",
      "rice-828540_1280.jpg MAIZE\n",
      "rice-field.jpg MAIZE\n",
      "rice-field01.jpg MAIZE\n",
      "rice-field02.jpg SUGARCANE\n",
      "rice-fields-204128_1280.jpg MAIZE\n",
      "rice8122f869e3f.jpg MAIZE\n",
      "sugarcane fields.jpg MAIZE\n",
      "sugarcane-farm-in-the-mountain-countryside-of-thailand.jpg MAIZE\n",
      "sugarcane-field.jpg MAIZE\n",
      "sugarcane-field8.jpg MAIZE\n",
      "sugarcanefield.jpg MAIZE\n",
      "sugarcanefield02.jpg MAIZE\n",
      "sugarcaneplant.jpg MAIZE\n",
      "sugarcaneplants.jpg MAIZE\n",
      "wheat-crop.jpg MAIZE\n",
      "wheat-field-395545_960_720.jpg MAIZE\n",
      "wheat-field-artificial-irrigation-rural-electrification-to-harvest-166395991.jpg MAIZE\n",
      "wheat-field.jfif MAIZE\n",
      "wheat-field01.jpg MAIZE\n",
      "wheat-field02.jpg MAIZE\n",
      "wheat-field03.jpg MAIZE\n",
      "wheat.jpg MAIZE\n",
      "wheatarial02.jpg MAIZE\n",
      "wheatarialview.jfif MAIZE\n",
      "wheatcrop01.jpg MAIZE\n",
      "wheatcropfield.jpg MAIZE\n",
      "wheatcropfield04.jpg MAIZE\n",
      "wheatcrops.jpg MAIZE\n",
      "wheatss.jpg MAIZE\n"
     ]
    }
   ],
   "source": [
    "for filename in filenames:\n",
    "    output = predict_image('../../Datasets/Agriculture/test_crop_image/'+filename)\n",
    "    print(filename, output)"
   ]
  },
  {
   "cell_type": "code",
   "execution_count": null,
   "id": "f870aae5",
   "metadata": {},
   "outputs": [],
   "source": [
    "# 11 out of 51 by own "
   ]
  },
  {
   "cell_type": "markdown",
   "id": "0da81235",
   "metadata": {},
   "source": [
    "### Inception Model - some_more_images"
   ]
  },
  {
   "cell_type": "code",
   "execution_count": 36,
   "id": "a64390ad",
   "metadata": {},
   "outputs": [],
   "source": [
    "from tensorflow.keras.models import Sequential,Model\n",
    "from tensorflow.keras.layers import Conv2D, MaxPool2D, Flatten,Dense\n",
    "from tensorflow.keras.applications import InceptionV3"
   ]
  },
  {
   "cell_type": "code",
   "execution_count": 37,
   "id": "a77451b4",
   "metadata": {},
   "outputs": [],
   "source": [
    "from tensorflow.keras.models import load_model"
   ]
  },
  {
   "cell_type": "code",
   "execution_count": 46,
   "id": "ef4e25f1",
   "metadata": {},
   "outputs": [],
   "source": [
    "model_s2 = load_model('../../Downloads/Agriculture_Crop/cnn_inc_more1.h5') #load model from kaggle"
   ]
  },
  {
   "cell_type": "code",
   "execution_count": 47,
   "id": "e9852e56",
   "metadata": {},
   "outputs": [],
   "source": [
    "def predict_image(path):\n",
    "    A = cv2.imread(path)\n",
    "    B = cv2.resize(A,(224,224))\n",
    "    C = B/255\n",
    "    yp = model_s2.predict_on_batch(C.reshape(1,224,224,3)).argmax()\n",
    "    if yp==0:\n",
    "        return('WHEAT')\n",
    "    elif yp==1:\n",
    "        return('JUTE')\n",
    "    elif yp==2:\n",
    "        return('MAIZE')\n",
    "    elif yp==3:\n",
    "        return('RICE')\n",
    "    elif yp==4:\n",
    "        return('SUGARCANE')"
   ]
  },
  {
   "cell_type": "code",
   "execution_count": 48,
   "id": "aea9fac5",
   "metadata": {},
   "outputs": [],
   "source": [
    "filenames = os.listdir('../../Datasets/Agriculture/test_crop_image/')"
   ]
  },
  {
   "cell_type": "code",
   "execution_count": 49,
   "id": "c181e788",
   "metadata": {},
   "outputs": [
    {
     "name": "stdout",
     "output_type": "stream",
     "text": [
      "jute-field.jpg MAIZE\n",
      "jute002.jpg SUGARCANE\n",
      "jute003.jpg MAIZE\n",
      "jute03.jpg WHEAT\n",
      "jutefield.jpg SUGARCANE\n",
      "juteimg.jpg WHEAT\n",
      "juteleaves.jpg MAIZE\n",
      "juteplant.jpg MAIZE\n",
      "juteplants.jpg MAIZE\n",
      "maize corn set2.jpg MAIZE\n",
      "maize images.jfif SUGARCANE\n",
      "maize plant set.jpg MAIZE\n",
      "maize-Field-Corn.jpg SUGARCANE\n",
      "maize-field.jpg SUGARCANE\n",
      "maize-field01.jpg MAIZE\n",
      "maize000.jfif MAIZE\n",
      "maize00corn-fields.jpg SUGARCANE\n",
      "maize02.jfif MAIZE\n",
      "maizecornleaves.jfif MAIZE\n",
      "maize_fieldmexico.jpeg SUGARCANE\n",
      "rice-4967164_1280.jpg SUGARCANE\n",
      "rice-5174887_1280.jpg MAIZE\n",
      "rice-828540_1280.jpg MAIZE\n",
      "rice-field.jpg MAIZE\n",
      "rice-field01.jpg SUGARCANE\n",
      "rice-field02.jpg MAIZE\n",
      "rice-fields-204128_1280.jpg WHEAT\n",
      "rice8122f869e3f.jpg MAIZE\n",
      "sugarcane fields.jpg MAIZE\n",
      "sugarcane-farm-in-the-mountain-countryside-of-thailand.jpg MAIZE\n",
      "sugarcane-field.jpg SUGARCANE\n",
      "sugarcane-field8.jpg SUGARCANE\n",
      "sugarcanefield.jpg SUGARCANE\n",
      "sugarcanefield02.jpg SUGARCANE\n",
      "sugarcaneplant.jpg MAIZE\n",
      "sugarcaneplants.jpg WHEAT\n",
      "wheat-crop.jpg WHEAT\n",
      "wheat-field-395545_960_720.jpg WHEAT\n",
      "wheat-field-artificial-irrigation-rural-electrification-to-harvest-166395991.jpg WHEAT\n",
      "wheat-field.jfif SUGARCANE\n",
      "wheat-field01.jpg MAIZE\n",
      "wheat-field02.jpg MAIZE\n",
      "wheat-field03.jpg WHEAT\n",
      "wheat.jpg SUGARCANE\n",
      "wheatarial02.jpg MAIZE\n",
      "wheatarialview.jfif MAIZE\n",
      "wheatcrop01.jpg SUGARCANE\n",
      "wheatcropfield.jpg WHEAT\n",
      "wheatcropfield04.jpg SUGARCANE\n",
      "wheatcrops.jpg WHEAT\n",
      "wheatss.jpg SUGARCANE\n"
     ]
    }
   ],
   "source": [
    "for filename in filenames:\n",
    "    output = predict_image('../../Datasets/Agriculture/test_crop_image/'+filename)\n",
    "    print(filename, output)"
   ]
  },
  {
   "cell_type": "code",
   "execution_count": null,
   "id": "3b7b8500",
   "metadata": {},
   "outputs": [],
   "source": [
    "# 16 out of 51 by inception"
   ]
  },
  {
   "cell_type": "markdown",
   "id": "120f35f9",
   "metadata": {},
   "source": [
    "### Resnet Model - some_more_images"
   ]
  },
  {
   "cell_type": "code",
   "execution_count": 50,
   "id": "059916e0",
   "metadata": {},
   "outputs": [],
   "source": [
    "from tensorflow.keras.models import Sequential,Model\n",
    "from tensorflow.keras.layers import Conv2D, MaxPool2D, Flatten,Dense\n",
    "from tensorflow.keras.applications import ResNet50"
   ]
  },
  {
   "cell_type": "code",
   "execution_count": 51,
   "id": "94dc0cf7",
   "metadata": {},
   "outputs": [],
   "source": [
    "from tensorflow.keras.models import load_model"
   ]
  },
  {
   "cell_type": "code",
   "execution_count": 52,
   "id": "11561f85",
   "metadata": {},
   "outputs": [],
   "source": [
    "model_s3 = load_model('../../Downloads/Agriculture_Crop/cnn_res_more1.h5') #load model from kaggle"
   ]
  },
  {
   "cell_type": "code",
   "execution_count": 53,
   "id": "4bd7a3ba",
   "metadata": {},
   "outputs": [],
   "source": [
    "def predict_image(path):\n",
    "    A = cv2.imread(path)\n",
    "    B = cv2.resize(A,(224,224))\n",
    "    C = B/255\n",
    "    yp = model_s3.predict_on_batch(C.reshape(1,224,224,3)).argmax()\n",
    "    if yp==0:\n",
    "        return('WHEAT')\n",
    "    elif yp==1:\n",
    "        return('JUTE')\n",
    "    elif yp==2:\n",
    "        return('MAIZE')\n",
    "    elif yp==3:\n",
    "        return('RICE')\n",
    "    elif yp==4:\n",
    "        return('SUGARCANE')"
   ]
  },
  {
   "cell_type": "code",
   "execution_count": 54,
   "id": "3864a5ba",
   "metadata": {},
   "outputs": [],
   "source": [
    "filenames = os.listdir('../../Datasets/Agriculture/test_crop_image/')"
   ]
  },
  {
   "cell_type": "code",
   "execution_count": 55,
   "id": "ce4f6fbb",
   "metadata": {},
   "outputs": [
    {
     "name": "stdout",
     "output_type": "stream",
     "text": [
      "jute-field.jpg JUTE\n",
      "jute002.jpg JUTE\n",
      "jute003.jpg JUTE\n",
      "jute03.jpg JUTE\n",
      "jutefield.jpg JUTE\n",
      "juteimg.jpg SUGARCANE\n",
      "juteleaves.jpg JUTE\n",
      "juteplant.jpg MAIZE\n",
      "juteplants.jpg JUTE\n",
      "maize corn set2.jpg RICE\n",
      "maize images.jfif JUTE\n",
      "maize plant set.jpg JUTE\n",
      "maize-Field-Corn.jpg WHEAT\n",
      "maize-field.jpg JUTE\n",
      "maize-field01.jpg WHEAT\n",
      "maize000.jfif JUTE\n",
      "maize00corn-fields.jpg MAIZE\n",
      "maize02.jfif MAIZE\n",
      "maizecornleaves.jfif MAIZE\n",
      "maize_fieldmexico.jpeg MAIZE\n",
      "rice-4967164_1280.jpg SUGARCANE\n",
      "rice-5174887_1280.jpg JUTE\n",
      "rice-828540_1280.jpg JUTE\n",
      "rice-field.jpg MAIZE\n",
      "rice-field01.jpg JUTE\n",
      "rice-field02.jpg JUTE\n",
      "rice-fields-204128_1280.jpg JUTE\n",
      "rice8122f869e3f.jpg RICE\n",
      "sugarcane fields.jpg MAIZE\n",
      "sugarcane-farm-in-the-mountain-countryside-of-thailand.jpg MAIZE\n",
      "sugarcane-field.jpg MAIZE\n",
      "sugarcane-field8.jpg MAIZE\n",
      "sugarcanefield.jpg MAIZE\n",
      "sugarcanefield02.jpg JUTE\n",
      "sugarcaneplant.jpg JUTE\n",
      "sugarcaneplants.jpg RICE\n",
      "wheat-crop.jpg WHEAT\n",
      "wheat-field-395545_960_720.jpg JUTE\n",
      "wheat-field-artificial-irrigation-rural-electrification-to-harvest-166395991.jpg JUTE\n",
      "wheat-field.jfif RICE\n",
      "wheat-field01.jpg JUTE\n",
      "wheat-field02.jpg JUTE\n",
      "wheat-field03.jpg WHEAT\n",
      "wheat.jpg JUTE\n",
      "wheatarial02.jpg SUGARCANE\n",
      "wheatarialview.jfif WHEAT\n",
      "wheatcrop01.jpg JUTE\n",
      "wheatcropfield.jpg JUTE\n",
      "wheatcropfield04.jpg WHEAT\n",
      "wheatcrops.jpg SUGARCANE\n",
      "wheatss.jpg JUTE\n"
     ]
    }
   ],
   "source": [
    "for filename in filenames:\n",
    "    output = predict_image('../../Datasets/Agriculture/test_crop_image/'+filename)\n",
    "    print(filename, output)"
   ]
  },
  {
   "cell_type": "code",
   "execution_count": null,
   "id": "ac9283f8",
   "metadata": {},
   "outputs": [],
   "source": [
    "# 16 out of 51 by resnet"
   ]
  },
  {
   "cell_type": "code",
   "execution_count": null,
   "id": "548a92a9",
   "metadata": {},
   "outputs": [],
   "source": []
  },
  {
   "cell_type": "code",
   "execution_count": 56,
   "id": "e4e59a9d",
   "metadata": {},
   "outputs": [],
   "source": [
    "crop = [31.37,58.82,35.29]\n",
    "kag2 = [27.45,49.01,39.21]\n",
    "other = [21.56,31.37,31.37]"
   ]
  },
  {
   "cell_type": "code",
   "execution_count": 63,
   "id": "46f9ca3f",
   "metadata": {},
   "outputs": [],
   "source": [
    "dict1 = {'crop':crop,'kag2':kag2,'more':other}"
   ]
  },
  {
   "cell_type": "code",
   "execution_count": 64,
   "id": "b0678562",
   "metadata": {},
   "outputs": [],
   "source": [
    "df = pd.DataFrame(dict1,index = ['Own','InceptionV3','ResNet50'])"
   ]
  },
  {
   "cell_type": "code",
   "execution_count": 67,
   "id": "ada96009",
   "metadata": {},
   "outputs": [
    {
     "data": {
      "text/html": [
       "<div>\n",
       "<style scoped>\n",
       "    .dataframe tbody tr th:only-of-type {\n",
       "        vertical-align: middle;\n",
       "    }\n",
       "\n",
       "    .dataframe tbody tr th {\n",
       "        vertical-align: top;\n",
       "    }\n",
       "\n",
       "    .dataframe thead th {\n",
       "        text-align: right;\n",
       "    }\n",
       "</style>\n",
       "<table border=\"1\" class=\"dataframe\">\n",
       "  <thead>\n",
       "    <tr style=\"text-align: right;\">\n",
       "      <th></th>\n",
       "      <th>crop</th>\n",
       "      <th>kag2</th>\n",
       "      <th>more</th>\n",
       "    </tr>\n",
       "  </thead>\n",
       "  <tbody>\n",
       "    <tr>\n",
       "      <th>Own</th>\n",
       "      <td>31.37</td>\n",
       "      <td>27.45</td>\n",
       "      <td>21.56</td>\n",
       "    </tr>\n",
       "    <tr>\n",
       "      <th>InceptionV3</th>\n",
       "      <td>58.82</td>\n",
       "      <td>49.01</td>\n",
       "      <td>31.37</td>\n",
       "    </tr>\n",
       "    <tr>\n",
       "      <th>ResNet50</th>\n",
       "      <td>35.29</td>\n",
       "      <td>39.21</td>\n",
       "      <td>31.37</td>\n",
       "    </tr>\n",
       "  </tbody>\n",
       "</table>\n",
       "</div>"
      ],
      "text/plain": [
       "              crop   kag2   more\n",
       "Own          31.37  27.45  21.56\n",
       "InceptionV3  58.82  49.01  31.37\n",
       "ResNet50     35.29  39.21  31.37"
      ]
     },
     "execution_count": 67,
     "metadata": {},
     "output_type": "execute_result"
    }
   ],
   "source": [
    "df   #accuracies of all data by different models"
   ]
  },
  {
   "cell_type": "code",
   "execution_count": null,
   "id": "3d93fb16",
   "metadata": {},
   "outputs": [],
   "source": []
  }
 ],
 "metadata": {
  "kernelspec": {
   "display_name": "Python [conda env:dsml20_env1]",
   "language": "python",
   "name": "conda-env-dsml20_env1-py"
  },
  "language_info": {
   "codemirror_mode": {
    "name": "ipython",
    "version": 3
   },
   "file_extension": ".py",
   "mimetype": "text/x-python",
   "name": "python",
   "nbconvert_exporter": "python",
   "pygments_lexer": "ipython3",
   "version": "3.6.13"
  }
 },
 "nbformat": 4,
 "nbformat_minor": 5
}
